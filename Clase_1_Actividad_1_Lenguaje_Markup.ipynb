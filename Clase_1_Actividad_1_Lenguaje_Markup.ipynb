{
  "nbformat": 4,
  "nbformat_minor": 0,
  "metadata": {
    "colab": {
      "provenance": []
    },
    "kernelspec": {
      "name": "python3",
      "display_name": "Python 3"
    },
    "language_info": {
      "name": "python"
    }
  },
  "cells": [
    {
      "cell_type": "markdown",
      "source": [
        "# Actividades"
      ],
      "metadata": {
        "id": "gCJoH7KuEUga"
      }
    },
    {
      "cell_type": "markdown",
      "source": [
        "## Actividad 1"
      ],
      "metadata": {
        "id": "NHa-sP3zJ8Db"
      }
    },
    {
      "cell_type": "markdown",
      "source": [
        "  Creá tu propio bloque de texto. Utiliza:\n",
        "  - formatos de texto\n",
        "  - links\n",
        "  - al menos una imagen de tu carpeta Drive"
      ],
      "metadata": {
        "id": "ZlSXlWj4KAZZ"
      }
    },
    {
      "cell_type": "markdown",
      "source": [
        "***Este es un bloque de texto***\n",
        "\n",
        "Ante cualquier duda click [aquí](https:// [texto del vínculo](https://www.python.org/))"
      ],
      "metadata": {
        "id": "UJqSx33vQh3p"
      }
    },
    {
      "cell_type": "markdown",
      "source": [
        "## Actividad 2"
      ],
      "metadata": {
        "id": "LTFeKV5uKDPK"
      }
    },
    {
      "cell_type": "markdown",
      "source": [
        "Creá un bloque de código con un programa que pida un número por teclado, y responda si es par o impar. Ejecutalo."
      ],
      "metadata": {
        "id": "NfVvRVxMKUu8"
      }
    },
    {
      "cell_type": "markdown",
      "source": [
        "Respuesta Act. 1\n",
        "`Texto 1`\n",
        "Cita\n",
        "\n",
        "> Añadir blockquote\n",
        "Lista ordenada\n",
        "1. item 1\n",
        "2. item 2\n",
        "\n",
        "\n",
        "\n",
        "\n"
      ],
      "metadata": {
        "id": "EeCb3kcTF9qJ"
      }
    },
    {
      "cell_type": "markdown",
      "source": [
        "# Act 1"
      ],
      "metadata": {
        "id": "aStb321iGZuO"
      }
    },
    {
      "cell_type": "markdown",
      "source": [
        "Ingreso de numero por consola"
      ],
      "metadata": {
        "id": "6ZMdC07oGcEk"
      }
    },
    {
      "cell_type": "code",
      "source": [
        "numero = float(input(\"Ingrese el primer número\")) # int convierte str a int\n",
        "print(\"Tipo de dato de num1\", type(numero))"
      ],
      "metadata": {
        "id": "RIUHoBG9GgTx"
      },
      "execution_count": null,
      "outputs": []
    },
    {
      "cell_type": "markdown",
      "source": [
        "Evalúo si el dato ingresado es par o inpar"
      ],
      "metadata": {
        "id": "sxLdwxnjIn0T"
      }
    },
    {
      "cell_type": "code",
      "source": [
        "if numero % 2 == 0: # evaluar si es par o no\n",
        "  print(f\"El numero {numero} es par\")\n",
        "else:\n",
        "  print(f\"El número {numero} es inpar\")"
      ],
      "metadata": {
        "colab": {
          "base_uri": "https://localhost:8080/"
        },
        "id": "MrRD5_9pIcZm",
        "outputId": "67caeec2-ca8c-4af2-a1c6-0552d9190930"
      },
      "execution_count": null,
      "outputs": [
        {
          "output_type": "stream",
          "name": "stdout",
          "text": [
            "El número 7 es inpar\n"
          ]
        }
      ]
    },
    {
      "cell_type": "code",
      "source": [
        "%whos"
      ],
      "metadata": {
        "colab": {
          "base_uri": "https://localhost:8080/"
        },
        "id": "HIF_KHV4IsZ_",
        "outputId": "33febccf-7b6f-4626-b042-2020b9c6178b"
      },
      "execution_count": null,
      "outputs": [
        {
          "output_type": "stream",
          "name": "stdout",
          "text": [
            "Variable   Type     Data/Info\n",
            "-----------------------------\n",
            "numero     float    5.6\n"
          ]
        }
      ]
    },
    {
      "cell_type": "code",
      "source": [
        "%who"
      ],
      "metadata": {
        "colab": {
          "base_uri": "https://localhost:8080/"
        },
        "id": "DlM4m30uKRku",
        "outputId": "30dd8611-3084-401b-a047-7b22830e3ca9"
      },
      "execution_count": null,
      "outputs": [
        {
          "output_type": "stream",
          "name": "stdout",
          "text": [
            "numero\t \n"
          ]
        }
      ]
    }
  ]
}