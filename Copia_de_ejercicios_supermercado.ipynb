{
  "cells": [
    {
      "cell_type": "markdown",
      "metadata": {
        "id": "view-in-github",
        "colab_type": "text"
      },
      "source": [
        "<a href=\"https://colab.research.google.com/github/lorezolss/RepoDePrueba1/blob/main/Copia_de_ejercicios_supermercado.ipynb\" target=\"_parent\"><img src=\"https://colab.research.google.com/assets/colab-badge.svg\" alt=\"Open In Colab\"/></a>"
      ]
    },
    {
      "cell_type": "markdown",
      "metadata": {
        "id": "uJ2329xCDQre"
      },
      "source": [
        "# Ejercicios integrados con dataset de supermercado\n",
        "Usaremos un solo dataset de ventas para aplicar **lambda**, **map**, **filter**, **reduce** y **comprensiones**.\n",
        "Cada sección contiene ejercicios de dificultad creciente.\n"
      ],
      "id": "uJ2329xCDQre"
    },
    {
      "cell_type": "markdown",
      "metadata": {
        "id": "c-Xvdg59DQrw"
      },
      "source": [
        "### Dataset inicial"
      ],
      "id": "c-Xvdg59DQrw"
    },
    {
      "cell_type": "code",
      "execution_count": null,
      "metadata": {
        "id": "Nkl5ni4uDQrz"
      },
      "outputs": [],
      "source": [
        "ventas = [\n",
        "    {\"cliente\": \"Ana\", \"producto\": \"Leche\", \"categoria\": \"Lácteos\", \"precio\": 120, \"cantidad\": 2, \"fecha\": \"2025-01-10\"},\n",
        "    {\"cliente\": \"Luis\", \"producto\": \"Pan\", \"categoria\": \"Panadería\", \"precio\": 80, \"cantidad\": 5, \"fecha\": \"2025-01-10\"},\n",
        "    {\"cliente\": \"Sofía\", \"producto\": \"Queso\", \"categoria\": \"Lácteos\", \"precio\": 300, \"cantidad\": 1, \"fecha\": \"2025-01-11\"},\n",
        "    {\"cliente\": \"Ana\", \"producto\": \"Manzanas\", \"categoria\": \"Frutas\", \"precio\": 200, \"cantidad\": 3, \"fecha\": \"2025-01-12\"},\n",
        "    {\"cliente\": \"Luis\", \"producto\": \"Yogur\", \"categoria\": \"Lácteos\", \"precio\": 90, \"cantidad\": 4, \"fecha\": \"2025-01-12\"},\n",
        "    {\"cliente\": \"Marta\", \"producto\": \"Carne\", \"categoria\": \"Carnes\", \"precio\": 800, \"cantidad\": 1, \"fecha\": \"2025-01-13\"},\n",
        "    {\"cliente\": \"Sofía\", \"producto\": \"Bananas\", \"categoria\": \"Frutas\", \"precio\": 150, \"cantidad\": 6, \"fecha\": \"2025-01-13\"},\n",
        "    {\"cliente\": \"Ana\", \"producto\": \"Cereal\", \"categoria\": \"Despensa\", \"precio\": 400, \"cantidad\": 2, \"fecha\": \"2025-01-14\"},\n",
        "]"
      ],
      "id": "Nkl5ni4uDQrz"
    },
    {
      "cell_type": "markdown",
      "metadata": {
        "id": "cGy8NKkoDQr3"
      },
      "source": [
        "## Funciones lambda"
      ],
      "id": "cGy8NKkoDQr3"
    },
    {
      "cell_type": "markdown",
      "metadata": {
        "id": "driqYM1tDQr5"
      },
      "source": [
        "**Ejercicio:** 1. Crear una lambda que calcule el importe total de una venta (precio * cantidad)."
      ],
      "id": "driqYM1tDQr5"
    },
    {
      "cell_type": "code",
      "execution_count": null,
      "metadata": {
        "id": "TAlG_xg4DQr6",
        "colab": {
          "base_uri": "https://localhost:8080/"
        },
        "outputId": "bf4af714-77b2-4562-bad9-578e22687488"
      },
      "outputs": [
        {
          "output_type": "stream",
          "name": "stdout",
          "text": [
            "900\n",
            "800\n",
            "800\n",
            "600\n",
            "400\n",
            "360\n",
            "300\n",
            "240\n"
          ]
        }
      ],
      "source": [
        "total = lambda venta: venta[\"precio\"] * venta[\"cantidad\"]\n",
        "for venta in ventas:\n",
        "    print(total(venta))\n",
        "#print(total(ventas[1]))\n"
      ],
      "id": "TAlG_xg4DQr6"
    },
    {
      "cell_type": "markdown",
      "metadata": {
        "id": "fxmADhlZDQr7"
      },
      "source": [
        "**Ejercicio:** 2. Usar una lambda para clasificar los productos como 'barato' si precio < 200 o 'caro' en caso contrario."
      ],
      "id": "fxmADhlZDQr7"
    },
    {
      "cell_type": "code",
      "execution_count": null,
      "metadata": {
        "id": "FuXF-fwjDQr8",
        "colab": {
          "base_uri": "https://localhost:8080/"
        },
        "outputId": "94341b3d-6971-4eb2-a7b2-0757a818f863"
      },
      "outputs": [
        {
          "output_type": "stream",
          "name": "stdout",
          "text": [
            "150 barato\n",
            "800 caro\n",
            "400 caro\n",
            "200 caro\n",
            "80 barato\n",
            "90 barato\n",
            "300 caro\n",
            "120 barato\n"
          ]
        }
      ],
      "source": [
        "clasificar = lambda venta: \"barato\" if venta[\"precio\"] < 200 else \"caro\"\n",
        "for venta in ventas:\n",
        "    print(venta[\"precio\"] , clasificar(venta))\n",
        "#print(clasificar(ventas[2]))"
      ],
      "id": "FuXF-fwjDQr8"
    },
    {
      "cell_type": "markdown",
      "metadata": {
        "id": "EmiW3ynSDQr8"
      },
      "source": [
        "**Ejercicio:** 3. Ordenar las ventas por fecha usando lambda."
      ],
      "id": "EmiW3ynSDQr8"
    },
    {
      "cell_type": "code",
      "execution_count": null,
      "metadata": {
        "id": "RpbjVMu7DQr9",
        "colab": {
          "base_uri": "https://localhost:8080/"
        },
        "outputId": "e55f0852-7440-485d-b767-c4820eadda20"
      },
      "outputs": [
        {
          "output_type": "stream",
          "name": "stdout",
          "text": [
            "{'cliente': 'Luis', 'producto': 'Pan', 'categoria': 'Panadería', 'precio': 80, 'cantidad': 5, 'fecha': '2025-01-10'}\n",
            "{'cliente': 'Ana', 'producto': 'Leche', 'categoria': 'Lácteos', 'precio': 120, 'cantidad': 2, 'fecha': '2025-01-10'}\n",
            "{'cliente': 'Sofía', 'producto': 'Queso', 'categoria': 'Lácteos', 'precio': 300, 'cantidad': 1, 'fecha': '2025-01-11'}\n",
            "{'cliente': 'Ana', 'producto': 'Manzanas', 'categoria': 'Frutas', 'precio': 200, 'cantidad': 3, 'fecha': '2025-01-12'}\n",
            "{'cliente': 'Luis', 'producto': 'Yogur', 'categoria': 'Lácteos', 'precio': 90, 'cantidad': 4, 'fecha': '2025-01-12'}\n",
            "{'cliente': 'Sofía', 'producto': 'Bananas', 'categoria': 'Frutas', 'precio': 150, 'cantidad': 6, 'fecha': '2025-01-13'}\n",
            "{'cliente': 'Marta', 'producto': 'Carne', 'categoria': 'Carnes', 'precio': 800, 'cantidad': 1, 'fecha': '2025-01-13'}\n",
            "{'cliente': 'Ana', 'producto': 'Cereal', 'categoria': 'Despensa', 'precio': 400, 'cantidad': 2, 'fecha': '2025-01-14'}\n"
          ]
        }
      ],
      "source": [
        "ventas_x_fecha = lambda venta: venta[\"fecha\"]\n",
        "ventas.sort(key=ventas_x_fecha)\n",
        "for venta in ventas:\n",
        "    print(venta)\n",
        "#print(ventas)\n"
      ],
      "id": "RpbjVMu7DQr9"
    },
    {
      "cell_type": "markdown",
      "metadata": {
        "id": "rQuRc_0bDQr-"
      },
      "source": [
        "**Ejercicio:** 4. Ordenar las ventas por importe total de mayor a menor."
      ],
      "id": "rQuRc_0bDQr-"
    },
    {
      "cell_type": "code",
      "execution_count": null,
      "metadata": {
        "id": "lnZERD1YDQr-",
        "colab": {
          "base_uri": "https://localhost:8080/"
        },
        "outputId": "cc055fcc-70b8-437d-9ba3-fe223234b24e"
      },
      "outputs": [
        {
          "output_type": "stream",
          "name": "stdout",
          "text": [
            "Por : 900\n",
            "{'cliente': 'Sofía', 'producto': 'Bananas', 'categoria': 'Frutas', 'precio': 150, 'cantidad': 6, 'fecha': '2025-01-13'}\n",
            "Por : 800\n",
            "{'cliente': 'Marta', 'producto': 'Carne', 'categoria': 'Carnes', 'precio': 800, 'cantidad': 1, 'fecha': '2025-01-13'}\n",
            "Por : 800\n",
            "{'cliente': 'Ana', 'producto': 'Cereal', 'categoria': 'Despensa', 'precio': 400, 'cantidad': 2, 'fecha': '2025-01-14'}\n",
            "Por : 600\n",
            "{'cliente': 'Ana', 'producto': 'Manzanas', 'categoria': 'Frutas', 'precio': 200, 'cantidad': 3, 'fecha': '2025-01-12'}\n",
            "Por : 400\n",
            "{'cliente': 'Luis', 'producto': 'Pan', 'categoria': 'Panadería', 'precio': 80, 'cantidad': 5, 'fecha': '2025-01-10'}\n",
            "Por : 360\n",
            "{'cliente': 'Luis', 'producto': 'Yogur', 'categoria': 'Lácteos', 'precio': 90, 'cantidad': 4, 'fecha': '2025-01-12'}\n",
            "Por : 300\n",
            "{'cliente': 'Sofía', 'producto': 'Queso', 'categoria': 'Lácteos', 'precio': 300, 'cantidad': 1, 'fecha': '2025-01-11'}\n",
            "Por : 240\n",
            "{'cliente': 'Ana', 'producto': 'Leche', 'categoria': 'Lácteos', 'precio': 120, 'cantidad': 2, 'fecha': '2025-01-10'}\n"
          ]
        }
      ],
      "source": [
        "total = lambda venta: venta[\"precio\"] * venta[\"cantidad\"]\n",
        "ventas.sort(key=total, reverse=True)\n",
        "#print(ventas)\n",
        "for venta in ventas:\n",
        "    print(f'Por : {total(venta)}')\n",
        "    print(venta)"
      ],
      "id": "lnZERD1YDQr-"
    },
    {
      "cell_type": "markdown",
      "metadata": {
        "id": "j74qNYVLDQr_"
      },
      "source": [
        "**Ejercicio:** 5. Crear una lista de tuplas (cliente, total gastado en esa compra) usando map y lambda."
      ],
      "id": "j74qNYVLDQr_"
    },
    {
      "cell_type": "code",
      "execution_count": null,
      "metadata": {
        "id": "P4wsxcO2DQr_",
        "colab": {
          "base_uri": "https://localhost:8080/"
        },
        "outputId": "8baa2189-1ae2-4b87-f277-61cb648a40d6"
      },
      "outputs": [
        {
          "output_type": "stream",
          "name": "stdout",
          "text": [
            "[('Sofía', 900), ('Marta', 800), ('Ana', 800), ('Ana', 600), ('Luis', 400), ('Luis', 360), ('Sofía', 300), ('Ana', 240)]\n"
          ]
        }
      ],
      "source": [
        "cliente_total = list(map(lambda venta: (venta[\"cliente\"], total(venta)), ventas))\n",
        "print(cliente_total)\n"
      ],
      "id": "P4wsxcO2DQr_"
    },
    {
      "cell_type": "markdown",
      "metadata": {
        "id": "vVzuwD2-DQsA"
      },
      "source": [
        "## map()"
      ],
      "id": "vVzuwD2-DQsA"
    },
    {
      "cell_type": "markdown",
      "metadata": {
        "id": "AYklR2xHDQsA"
      },
      "source": [
        "**Ejercicio:** 1. Generar una lista con los nombres de los clientes en mayúsculas."
      ],
      "id": "AYklR2xHDQsA"
    },
    {
      "cell_type": "code",
      "execution_count": null,
      "metadata": {
        "id": "JfdhW-efDQsA",
        "colab": {
          "base_uri": "https://localhost:8080/"
        },
        "outputId": "9c63410e-e8b9-44ec-be38-a5379871a58e"
      },
      "outputs": [
        {
          "output_type": "stream",
          "name": "stdout",
          "text": [
            "['SOFÍA', 'MARTA', 'ANA', 'ANA', 'LUIS', 'LUIS', 'SOFÍA', 'ANA']\n"
          ]
        }
      ],
      "source": [
        "nombres_mayus = list(map(lambda venta: venta[\"cliente\"].upper(), ventas))\n",
        "print(nombres_mayus)\n"
      ],
      "id": "JfdhW-efDQsA"
    },
    {
      "cell_type": "markdown",
      "metadata": {
        "id": "Jb_kPclVDQsB"
      },
      "source": [
        "**Ejercicio:** 2. Calcular con map el importe total de cada venta."
      ],
      "id": "Jb_kPclVDQsB"
    },
    {
      "cell_type": "code",
      "execution_count": null,
      "metadata": {
        "id": "FZd2DOi7DQsB",
        "colab": {
          "base_uri": "https://localhost:8080/"
        },
        "outputId": "daf45bcd-8f30-490b-dc0a-1ae4d91feaa7"
      },
      "outputs": [
        {
          "output_type": "stream",
          "name": "stdout",
          "text": [
            "[900, 800, 800, 600, 400, 360, 300, 240]\n"
          ]
        }
      ],
      "source": [
        "importe_total = list(map(lambda venta: total(venta), ventas))\n",
        "print(importe_total)\n"
      ],
      "id": "FZd2DOi7DQsB"
    },
    {
      "cell_type": "markdown",
      "metadata": {
        "id": "mlcWG1-8DQsB"
      },
      "source": [
        "**Ejercicio:** 3. Transformar las ventas en strings del tipo: 'Ana compró 2 Leche por $240 el 2025-01-10'."
      ],
      "id": "mlcWG1-8DQsB"
    },
    {
      "cell_type": "code",
      "execution_count": null,
      "metadata": {
        "id": "BowHAthKDQsC",
        "colab": {
          "base_uri": "https://localhost:8080/"
        },
        "outputId": "d95e20d3-6f49-436f-9bd7-bb760092fd01"
      },
      "outputs": [
        {
          "output_type": "stream",
          "name": "stdout",
          "text": [
            "Sofía compró 6 Bananas por $900 el 2025-01-13\n",
            "Marta compró 1 Carne por $800 el 2025-01-13\n",
            "Ana compró 2 Cereal por $800 el 2025-01-14\n",
            "Ana compró 3 Manzanas por $600 el 2025-01-12\n",
            "Luis compró 5 Pan por $400 el 2025-01-10\n",
            "Luis compró 4 Yogur por $360 el 2025-01-12\n",
            "Sofía compró 1 Queso por $300 el 2025-01-11\n",
            "Ana compró 2 Leche por $240 el 2025-01-10\n"
          ]
        }
      ],
      "source": [
        "desc_venta = list(map(lambda venta: f'{venta[\"cliente\"]} compró {venta[\"cantidad\"]} {venta[\"producto\"]} por ${total(venta)} el {venta[\"fecha\"]}', ventas))\n",
        "for venta in desc_venta:\n",
        "    print(venta)\n",
        "#print(desc_venta)\n"
      ],
      "id": "BowHAthKDQsC"
    },
    {
      "cell_type": "markdown",
      "metadata": {
        "id": "mBHYdN_yDQsC"
      },
      "source": [
        "**Ejercicio:** 4. Extraer con map solo las categorías de los productos."
      ],
      "id": "mBHYdN_yDQsC"
    },
    {
      "cell_type": "code",
      "execution_count": null,
      "metadata": {
        "id": "KRs09btiDQsD",
        "colab": {
          "base_uri": "https://localhost:8080/"
        },
        "outputId": "d3185237-95e1-474a-8559-0e865d60574f"
      },
      "outputs": [
        {
          "output_type": "stream",
          "name": "stdout",
          "text": [
            "['Frutas', 'Carnes', 'Despensa', 'Frutas', 'Panadería', 'Lácteos', 'Lácteos', 'Lácteos']\n"
          ]
        }
      ],
      "source": [
        "categorias = list(map(lambda venta: venta[\"categoria\"], ventas))\n",
        "print(categorias)\n"
      ],
      "id": "KRs09btiDQsD"
    },
    {
      "cell_type": "markdown",
      "metadata": {
        "id": "1OdyPFoBDQsD"
      },
      "source": [
        "**Ejercicio:** 5. Generar una lista con la longitud de caracteres de cada producto vendido."
      ],
      "id": "1OdyPFoBDQsD"
    },
    {
      "cell_type": "code",
      "execution_count": null,
      "metadata": {
        "id": "S1dqKGFJDQsE",
        "colab": {
          "base_uri": "https://localhost:8080/"
        },
        "outputId": "f446e80e-cb54-4837-d270-4ed23dab3737"
      },
      "outputs": [
        {
          "output_type": "stream",
          "name": "stdout",
          "text": [
            "[7, 5, 6, 8, 3, 5, 5, 5]\n"
          ]
        }
      ],
      "source": [
        "longitud = list(map(lambda venta: len(venta[\"producto\"]), ventas))\n",
        "print(longitud)\n"
      ],
      "id": "S1dqKGFJDQsE"
    },
    {
      "cell_type": "markdown",
      "metadata": {
        "id": "2iBKCxAjDQsE"
      },
      "source": [
        "## filter()"
      ],
      "id": "2iBKCxAjDQsE"
    },
    {
      "cell_type": "markdown",
      "metadata": {
        "id": "Zw9lkOwcDQsE"
      },
      "source": [
        "**Ejercicio:** 1. Filtrar todas las ventas de la categoría 'Lácteos'."
      ],
      "id": "Zw9lkOwcDQsE"
    },
    {
      "cell_type": "code",
      "execution_count": null,
      "metadata": {
        "id": "Xw2O8BFoDQsE",
        "colab": {
          "base_uri": "https://localhost:8080/"
        },
        "outputId": "ea06254f-0fea-4980-8e2a-129812733a12"
      },
      "outputs": [
        {
          "output_type": "stream",
          "name": "stdout",
          "text": [
            "{'cliente': 'Luis', 'producto': 'Yogur', 'categoria': 'Lácteos', 'precio': 90, 'cantidad': 4, 'fecha': '2025-01-12'}\n",
            "{'cliente': 'Sofía', 'producto': 'Queso', 'categoria': 'Lácteos', 'precio': 300, 'cantidad': 1, 'fecha': '2025-01-11'}\n",
            "{'cliente': 'Ana', 'producto': 'Leche', 'categoria': 'Lácteos', 'precio': 120, 'cantidad': 2, 'fecha': '2025-01-10'}\n"
          ]
        }
      ],
      "source": [
        "lacteos = list(filter(lambda venta: venta[\"categoria\"] == \"Lácteos\", ventas))\n",
        "for venta in lacteos:\n",
        "    print(venta)\n",
        "#print(lacteos)\n",
        "\n"
      ],
      "id": "Xw2O8BFoDQsE"
    },
    {
      "cell_type": "markdown",
      "metadata": {
        "id": "0Di5t70zDQsF"
      },
      "source": [
        "**Ejercicio:** 2. Filtrar las ventas realizadas por el cliente 'Ana'."
      ],
      "id": "0Di5t70zDQsF"
    },
    {
      "cell_type": "code",
      "execution_count": null,
      "metadata": {
        "id": "9LKt6BQFDQsF",
        "colab": {
          "base_uri": "https://localhost:8080/"
        },
        "outputId": "1a718b84-9c1a-43ab-d21e-3030d1176503"
      },
      "outputs": [
        {
          "output_type": "stream",
          "name": "stdout",
          "text": [
            "{'cliente': 'Ana', 'producto': 'Cereal', 'categoria': 'Despensa', 'precio': 400, 'cantidad': 2, 'fecha': '2025-01-14'}\n",
            "{'cliente': 'Ana', 'producto': 'Manzanas', 'categoria': 'Frutas', 'precio': 200, 'cantidad': 3, 'fecha': '2025-01-12'}\n",
            "{'cliente': 'Ana', 'producto': 'Leche', 'categoria': 'Lácteos', 'precio': 120, 'cantidad': 2, 'fecha': '2025-01-10'}\n"
          ]
        }
      ],
      "source": [
        "ventas_Ana = list(filter(lambda venta: venta[\"cliente\"] == \"Ana\", ventas))\n",
        "for venta in ventas_Ana:\n",
        "    print(venta)\n",
        "#print(ventas_Ana)\n"
      ],
      "id": "9LKt6BQFDQsF"
    },
    {
      "cell_type": "markdown",
      "metadata": {
        "id": "fjOIsHMwDQsF"
      },
      "source": [
        "**Ejercicio:** 3. Filtrar las ventas con importe total > 500."
      ],
      "id": "fjOIsHMwDQsF"
    },
    {
      "cell_type": "code",
      "execution_count": null,
      "metadata": {
        "id": "4vjwvbFKDQsG",
        "colab": {
          "base_uri": "https://localhost:8080/"
        },
        "outputId": "0fdce5ef-7cea-4759-cd28-1b2e472aab7b"
      },
      "outputs": [
        {
          "output_type": "stream",
          "name": "stdout",
          "text": [
            "{'cliente': 'Sofía', 'producto': 'Bananas', 'categoria': 'Frutas', 'precio': 150, 'cantidad': 6, 'fecha': '2025-01-13'}\n",
            "{'cliente': 'Marta', 'producto': 'Carne', 'categoria': 'Carnes', 'precio': 800, 'cantidad': 1, 'fecha': '2025-01-13'}\n",
            "{'cliente': 'Ana', 'producto': 'Cereal', 'categoria': 'Despensa', 'precio': 400, 'cantidad': 2, 'fecha': '2025-01-14'}\n",
            "{'cliente': 'Ana', 'producto': 'Manzanas', 'categoria': 'Frutas', 'precio': 200, 'cantidad': 3, 'fecha': '2025-01-12'}\n"
          ]
        }
      ],
      "source": [
        "vtas_mayores_500 = list(filter(lambda venta: total(venta) > 500, ventas))\n",
        "for venta in vtas_mayores_500:\n",
        "    print(venta)\n",
        "#print(vtas_mayores_500)\n"
      ],
      "id": "4vjwvbFKDQsG"
    },
    {
      "cell_type": "markdown",
      "metadata": {
        "id": "wWJC5dXqDQsG"
      },
      "source": [
        "**Ejercicio:** 4. Filtrar los productos que se vendieron en cantidad mayor a 3."
      ],
      "id": "wWJC5dXqDQsG"
    },
    {
      "cell_type": "code",
      "execution_count": null,
      "metadata": {
        "id": "jvzQz_1RDQsH",
        "colab": {
          "base_uri": "https://localhost:8080/"
        },
        "outputId": "9d099348-eacc-42b4-bb18-5b6e96212fa2"
      },
      "outputs": [
        {
          "output_type": "stream",
          "name": "stdout",
          "text": [
            "{'cliente': 'Sofía', 'producto': 'Bananas', 'categoria': 'Frutas', 'precio': 150, 'cantidad': 6, 'fecha': '2025-01-13'}\n",
            "{'cliente': 'Luis', 'producto': 'Pan', 'categoria': 'Panadería', 'precio': 80, 'cantidad': 5, 'fecha': '2025-01-10'}\n",
            "{'cliente': 'Luis', 'producto': 'Yogur', 'categoria': 'Lácteos', 'precio': 90, 'cantidad': 4, 'fecha': '2025-01-12'}\n"
          ]
        }
      ],
      "source": [
        "mas_de_3 = list(filter(lambda venta: venta[\"cantidad\"] > 3, ventas))\n",
        "for venta in mas_de_3:\n",
        "    print(venta)\n",
        "#print(mas_de_3)\n"
      ],
      "id": "jvzQz_1RDQsH"
    },
    {
      "cell_type": "markdown",
      "metadata": {
        "id": "l3Vqqq_bDQsI"
      },
      "source": [
        "**Ejercicio:** 5. Filtrar todas las ventas realizadas en la fecha '2025-01-12'."
      ],
      "id": "l3Vqqq_bDQsI"
    },
    {
      "cell_type": "code",
      "execution_count": null,
      "metadata": {
        "id": "NaaWppupDQsJ",
        "colab": {
          "base_uri": "https://localhost:8080/"
        },
        "outputId": "a5da196e-ddd2-4487-ab62-bb0d91aa336f"
      },
      "outputs": [
        {
          "output_type": "stream",
          "name": "stdout",
          "text": [
            "{'cliente': 'Ana', 'producto': 'Manzanas', 'categoria': 'Frutas', 'precio': 200, 'cantidad': 3, 'fecha': '2025-01-12'}\n",
            "{'cliente': 'Luis', 'producto': 'Yogur', 'categoria': 'Lácteos', 'precio': 90, 'cantidad': 4, 'fecha': '2025-01-12'}\n"
          ]
        }
      ],
      "source": [
        "ventas_del_dia = list(filter(lambda venta: venta[\"fecha\"] == \"2025-01-12\", ventas))\n",
        "for venta in ventas_del_dia:\n",
        "    print(venta)\n",
        "#print(ventas_del_dia)\n"
      ],
      "id": "NaaWppupDQsJ"
    },
    {
      "cell_type": "markdown",
      "metadata": {
        "id": "U3SFqnInDQsK"
      },
      "source": [
        "## reduce()"
      ],
      "id": "U3SFqnInDQsK"
    },
    {
      "cell_type": "markdown",
      "metadata": {
        "id": "GF7NFyV-DQsK"
      },
      "source": [
        "**Ejercicio:** 1. Calcular la suma total facturada en todas las ventas."
      ],
      "id": "GF7NFyV-DQsK"
    },
    {
      "cell_type": "code",
      "execution_count": null,
      "metadata": {
        "id": "JbAnYq-RDQsL",
        "colab": {
          "base_uri": "https://localhost:8080/"
        },
        "outputId": "a0cd7d19-6b8d-4126-e8bc-4f3446b60dbf"
      },
      "outputs": [
        {
          "output_type": "stream",
          "name": "stdout",
          "text": [
            "4400\n"
          ]
        }
      ],
      "source": [
        "from functools import reduce\n",
        "total_facturado = reduce(lambda acc, venta: acc + total(venta), ventas, 0)\n",
        "print(total_facturado)\n"
      ],
      "id": "JbAnYq-RDQsL"
    },
    {
      "cell_type": "markdown",
      "metadata": {
        "id": "xhZj6wGRDQsR"
      },
      "source": [
        "**Ejercicio:** 2. Calcular la cantidad total de productos vendidos (sumando todas las cantidades)."
      ],
      "id": "xhZj6wGRDQsR"
    },
    {
      "cell_type": "code",
      "execution_count": null,
      "metadata": {
        "id": "r5cfFNL9DQsR",
        "colab": {
          "base_uri": "https://localhost:8080/"
        },
        "outputId": "21039f9d-bf37-4117-b24c-7d21b0f873bf"
      },
      "outputs": [
        {
          "output_type": "stream",
          "name": "stdout",
          "text": [
            "24\n"
          ]
        }
      ],
      "source": [
        "total_prod_vendidos = reduce(lambda acc, venta: acc + venta[\"cantidad\"], ventas, 0)\n",
        "print(total_prod_vendidos)\n"
      ],
      "id": "r5cfFNL9DQsR"
    },
    {
      "cell_type": "markdown",
      "metadata": {
        "id": "nJO5BjogDQsS"
      },
      "source": [
        "**Ejercicio:** 3. Encontrar la venta con mayor importe total."
      ],
      "id": "nJO5BjogDQsS"
    },
    {
      "cell_type": "code",
      "execution_count": null,
      "metadata": {
        "id": "_-Ur6ZfpDQsS",
        "colab": {
          "base_uri": "https://localhost:8080/"
        },
        "outputId": "3467704b-e63c-4785-b5ab-cc4f15141f1d"
      },
      "outputs": [
        {
          "output_type": "stream",
          "name": "stdout",
          "text": [
            "{'cliente': 'Sofía', 'producto': 'Bananas', 'categoria': 'Frutas', 'precio': 150, 'cantidad': 6, 'fecha': '2025-01-13'}\n"
          ]
        }
      ],
      "source": [
        "mayor_venta = reduce(lambda acc, venta: venta if total(venta) > total(acc) else acc, ventas)\n",
        "print(mayor_venta)\n"
      ],
      "id": "_-Ur6ZfpDQsS"
    },
    {
      "cell_type": "markdown",
      "metadata": {
        "id": "xAqJYPiNDQsT"
      },
      "source": [
        "**Ejercicio:** 4. Calcular el gasto total por cliente en un diccionario {cliente: total_gastado}."
      ],
      "id": "xAqJYPiNDQsT"
    },
    {
      "cell_type": "code",
      "execution_count": null,
      "metadata": {
        "id": "uWP-Jo2-DQsT",
        "colab": {
          "base_uri": "https://localhost:8080/"
        },
        "outputId": "cb831778-68dc-4c7c-eed5-eaf142e17a66"
      },
      "outputs": [
        {
          "output_type": "stream",
          "name": "stdout",
          "text": [
            "{'Sofía': 1200, 'Marta': 800, 'Ana': 1640, 'Luis': 760}\n"
          ]
        }
      ],
      "source": [
        "total_x_cliente = reduce(lambda acc, venta: acc | {venta[\"cliente\"]: acc.get(venta[\"cliente\"], 0) + total(venta)}, ventas, {})\n",
        "print(total_x_cliente)\n"
      ],
      "id": "uWP-Jo2-DQsT"
    },
    {
      "cell_type": "markdown",
      "metadata": {
        "id": "xmmpmb48DQsU"
      },
      "source": [
        "**Ejercicio:** 5. Calcular la cantidad de ventas por categoría en un diccionario {'Lácteos': 3, ...}."
      ],
      "id": "xmmpmb48DQsU"
    },
    {
      "cell_type": "code",
      "execution_count": null,
      "metadata": {
        "id": "WU0tIuTiDQsU",
        "colab": {
          "base_uri": "https://localhost:8080/"
        },
        "outputId": "5f0d4193-33a5-4e51-aa64-40a07def0c7a"
      },
      "outputs": [
        {
          "output_type": "stream",
          "name": "stdout",
          "text": [
            "{'Frutas': 2, 'Carnes': 1, 'Despensa': 1, 'Panadería': 1, 'Lácteos': 3}\n"
          ]
        }
      ],
      "source": [
        "ventas_x_categoria = reduce(lambda acc, venta: acc | {venta[\"categoria\"]: acc.get(venta[\"categoria\"], 0) + 1}, ventas, {})\n",
        "print(ventas_x_categoria)\n"
      ],
      "id": "WU0tIuTiDQsU"
    },
    {
      "cell_type": "markdown",
      "metadata": {
        "id": "SeLNNVTFDQsU"
      },
      "source": [
        "## Comprensiones"
      ],
      "id": "SeLNNVTFDQsU"
    },
    {
      "cell_type": "markdown",
      "metadata": {
        "id": "u_Y2fdyADQsV"
      },
      "source": [
        "**Ejercicio:** 1. Crear una lista con los importes totales de cada venta (precio * cantidad)."
      ],
      "id": "u_Y2fdyADQsV"
    },
    {
      "cell_type": "code",
      "execution_count": null,
      "metadata": {
        "id": "nPVrwfv-DQsV",
        "colab": {
          "base_uri": "https://localhost:8080/"
        },
        "outputId": "0e87a0d5-77c2-4e0c-dcc9-c268b36f1902"
      },
      "outputs": [
        {
          "output_type": "stream",
          "name": "stdout",
          "text": [
            "[900, 800, 800, 600, 400, 360, 300, 240]\n"
          ]
        }
      ],
      "source": [
        "importe_x_venta = [total(venta) for venta in ventas]\n",
        "print(importe_x_venta)\n"
      ],
      "id": "nPVrwfv-DQsV"
    },
    {
      "cell_type": "markdown",
      "metadata": {
        "id": "R0pLSVgYDQsV"
      },
      "source": [
        "**Ejercicio:** 2. Generar una lista con los clientes únicos que compraron algo."
      ],
      "id": "R0pLSVgYDQsV"
    },
    {
      "cell_type": "code",
      "execution_count": null,
      "metadata": {
        "id": "g0tpZ0SQDQsW",
        "colab": {
          "base_uri": "https://localhost:8080/"
        },
        "outputId": "d2275481-a17a-4fe6-85d3-faf05e463b12"
      },
      "outputs": [
        {
          "output_type": "stream",
          "name": "stdout",
          "text": [
            "['Ana', 'Marta', 'Sofía', 'Luis']\n"
          ]
        }
      ],
      "source": [
        "clientes_unicos = list(set([venta[\"cliente\"] for venta in ventas]))\n",
        "print(clientes_unicos)\n"
      ],
      "id": "g0tpZ0SQDQsW"
    },
    {
      "cell_type": "markdown",
      "metadata": {
        "id": "B6VxE3VRDQsW"
      },
      "source": [
        "**Ejercicio:** 3. Crear un diccionario {producto: importe_total} para todos los productos."
      ],
      "id": "B6VxE3VRDQsW"
    },
    {
      "cell_type": "code",
      "execution_count": null,
      "metadata": {
        "id": "P3yWjXc1DQsX",
        "colab": {
          "base_uri": "https://localhost:8080/"
        },
        "outputId": "76b43588-c750-42a8-b36e-b7f4353b4497"
      },
      "outputs": [
        {
          "output_type": "stream",
          "name": "stdout",
          "text": [
            "{'Bananas': 900, 'Carne': 800, 'Cereal': 800, 'Manzanas': 600, 'Pan': 400, 'Yogur': 360, 'Queso': 300, 'Leche': 240}\n"
          ]
        }
      ],
      "source": [
        "importe_x_producto = {venta[\"producto\"]: total(venta) for venta in ventas}\n",
        "print(importe_x_producto)\n"
      ],
      "id": "P3yWjXc1DQsX"
    },
    {
      "cell_type": "markdown",
      "metadata": {
        "id": "jmVDfA9LDQsZ"
      },
      "source": [
        "**Ejercicio:** 4. Generar una lista de strings del tipo: 'El cliente Ana compró 3 Manzanas (Frutas)'."
      ],
      "id": "jmVDfA9LDQsZ"
    },
    {
      "cell_type": "code",
      "execution_count": null,
      "metadata": {
        "id": "3gM-MVwgDQsZ",
        "colab": {
          "base_uri": "https://localhost:8080/"
        },
        "outputId": "fc4ea0ec-d0f1-4f06-d2f9-3598abeae75f"
      },
      "outputs": [
        {
          "output_type": "stream",
          "name": "stdout",
          "text": [
            "El cliente Sofía compró 6 Bananas (Frutas)\n",
            "El cliente Marta compró 1 Carne (Carnes)\n",
            "El cliente Ana compró 2 Cereal (Despensa)\n",
            "El cliente Ana compró 3 Manzanas (Frutas)\n",
            "El cliente Luis compró 5 Pan (Panadería)\n",
            "El cliente Luis compró 4 Yogur (Lácteos)\n",
            "El cliente Sofía compró 1 Queso (Lácteos)\n",
            "El cliente Ana compró 2 Leche (Lácteos)\n"
          ]
        }
      ],
      "source": [
        "desc_compra = [f'El cliente {venta[\"cliente\"]} compró {venta[\"cantidad\"]} {venta[\"producto\"]} ({venta[\"categoria\"]})' for venta in ventas]\n",
        "for venta in desc_compra:\n",
        "    print(venta)\n",
        "#print(desc_compra)\n"
      ],
      "id": "3gM-MVwgDQsZ"
    },
    {
      "cell_type": "markdown",
      "metadata": {
        "id": "TLdMPkIFDQsb"
      },
      "source": [
        "**Ejercicio:** 5. Crear un conjunto con todas las categorías únicas vendidas."
      ],
      "id": "TLdMPkIFDQsb"
    },
    {
      "cell_type": "code",
      "execution_count": null,
      "metadata": {
        "id": "BUmKNpm_DQsb",
        "colab": {
          "base_uri": "https://localhost:8080/"
        },
        "outputId": "79a832e4-1ef8-41f2-ff94-bf630e29b7fe"
      },
      "outputs": [
        {
          "output_type": "stream",
          "name": "stdout",
          "text": [
            "{'Lácteos', 'Panadería', 'Despensa', 'Frutas', 'Carnes'}\n"
          ]
        }
      ],
      "source": [
        "categorias_unicas = set([venta[\"categoria\"] for venta in ventas])\n",
        "print(categorias_unicas)\n"
      ],
      "id": "BUmKNpm_DQsb"
    }
  ],
  "metadata": {
    "kernelspec": {
      "display_name": "Python 3",
      "language": "python",
      "name": "python3"
    },
    "language_info": {
      "name": "python",
      "version": "3.x"
    },
    "colab": {
      "provenance": [],
      "include_colab_link": true
    }
  },
  "nbformat": 4,
  "nbformat_minor": 5
}